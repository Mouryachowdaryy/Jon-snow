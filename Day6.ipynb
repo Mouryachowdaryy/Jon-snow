{
  "nbformat": 4,
  "nbformat_minor": 0,
  "metadata": {
    "colab": {
      "provenance": [],
      "authorship_tag": "ABX9TyO7RkeZ6iumPPUolCC8jhlm",
      "include_colab_link": true
    },
    "kernelspec": {
      "name": "python3",
      "display_name": "Python 3"
    },
    "language_info": {
      "name": "python"
    }
  },
  "cells": [
    {
      "cell_type": "markdown",
      "metadata": {
        "id": "view-in-github",
        "colab_type": "text"
      },
      "source": [
        "<a href=\"https://colab.research.google.com/github/Mouryachowdaryy/Jon-snow/blob/main/Day6.ipynb\" target=\"_parent\"><img src=\"https://colab.research.google.com/assets/colab-badge.svg\" alt=\"Open In Colab\"/></a>"
      ]
    },
    {
      "cell_type": "code",
      "execution_count": 1,
      "metadata": {
        "colab": {
          "base_uri": "https://localhost:8080/"
        },
        "id": "kfwAfZAepiGB",
        "outputId": "8e7b1073-7a60-4284-9003-300df17fdd28"
      },
      "outputs": [
        {
          "output_type": "stream",
          "name": "stdout",
          "text": [
            "'python': 2\n",
            "'is': 2\n",
            "'a': 1\n",
            "'great': 1\n",
            "'programming': 1\n",
            "'language': 1\n",
            "'used': 1\n",
            "'for': 1\n",
            "'data': 1\n",
            "'science': 1\n",
            "'web': 1\n",
            "'development': 1\n",
            "'and': 1\n",
            "'more': 1\n"
          ]
        }
      ],
      "source": [
        "from collections import Counter\n",
        "import re\n",
        "\n",
        "def word_frequency(text):\n",
        "    # Convert text to lowercase and split into words\n",
        "    words = re.findall(r'\\b\\w+\\b', text.lower())\n",
        "\n",
        "    # Use Counter to count word frequencies\n",
        "    word_count = Counter(words)\n",
        "\n",
        "    # Print words and their frequencies\n",
        "    for word, count in word_count.items():\n",
        "        print(f\"'{word}': {count}\")\n",
        "\n",
        "# Example usage\n",
        "text = \"\"\"Python is a great programming language. Python is used for data science, web development, and more.\"\"\"\n",
        "word_frequency(text)\n"
      ]
    }
  ]
}