{
  "nbformat": 4,
  "nbformat_minor": 0,
  "metadata": {
    "colab": {
      "provenance": [],
      "authorship_tag": "ABX9TyMXoEgeZukllbfw8JHIi9+K",
      "include_colab_link": true
    },
    "kernelspec": {
      "name": "python3",
      "display_name": "Python 3"
    },
    "language_info": {
      "name": "python"
    }
  },
  "cells": [
    {
      "cell_type": "markdown",
      "metadata": {
        "id": "view-in-github",
        "colab_type": "text"
      },
      "source": [
        "<a href=\"https://colab.research.google.com/github/Mouryachowdaryy/Jon-snow/blob/main/Day10.ipynb\" target=\"_parent\"><img src=\"https://colab.research.google.com/assets/colab-badge.svg\" alt=\"Open In Colab\"/></a>"
      ]
    },
    {
      "cell_type": "code",
      "source": [
        "import re\n",
        "\n",
        "def clean_text(text):\n",
        "    \"\"\"\n",
        "    Cleans a given text by removing special characters and converting it to lowercase.\n",
        "\n",
        "    Args:\n",
        "    text: The input text.\n",
        "\n",
        "    Returns:\n",
        "    The cleaned text.\n",
        "    \"\"\"\n",
        "    # Remove special characters using regular expression.\n",
        "    cleaned_text = re.sub(r'[^a-zA-Z0-9\\s]', '', text)\n",
        "    # Convert to lowercase.\n",
        "    cleaned_text = cleaned_text.lower()\n",
        "    return cleaned_text\n",
        "\n",
        "# Test the function.\n",
        "text = 'Hello, World! Welcome to NLP 101.'\n",
        "cleaned_text = clean_text(text)\n",
        "print(f\"Original text: {text}\")\n",
        "print(f\"Cleaned text: {cleaned_text}\")"
      ],
      "metadata": {
        "id": "HtIHHS_Ll6Y0",
        "outputId": "d1d5a86f-7f6f-41ef-acb7-a2a997600c01",
        "colab": {
          "base_uri": "https://localhost:8080/"
        }
      },
      "execution_count": 3,
      "outputs": [
        {
          "output_type": "stream",
          "name": "stdout",
          "text": [
            "Original text: Hello, World! Welcome to NLP 101.\n",
            "Cleaned text: hello world welcome to nlp 101\n"
          ]
        }
      ]
    }
  ]
}