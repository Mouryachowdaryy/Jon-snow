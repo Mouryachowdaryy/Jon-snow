{
  "nbformat": 4,
  "nbformat_minor": 0,
  "metadata": {
    "colab": {
      "provenance": [],
      "authorship_tag": "ABX9TyMvMuneWyMrYKfoEhZ/hedl",
      "include_colab_link": true
    },
    "kernelspec": {
      "name": "python3",
      "display_name": "Python 3"
    },
    "language_info": {
      "name": "python"
    }
  },
  "cells": [
    {
      "cell_type": "markdown",
      "metadata": {
        "id": "view-in-github",
        "colab_type": "text"
      },
      "source": [
        "<a href=\"https://colab.research.google.com/github/Mouryachowdaryy/Jon-snow/blob/main/Day11.ipynb\" target=\"_parent\"><img src=\"https://colab.research.google.com/assets/colab-badge.svg\" alt=\"Open In Colab\"/></a>"
      ]
    },
    {
      "cell_type": "code",
      "source": [
        "import re\n",
        "\n",
        "def extract_emails(text):\n",
        "  \"\"\"Extracts all email addresses from a given string.\n",
        "\n",
        "  Args:\n",
        "    text: The input string.\n",
        "\n",
        "  Returns:\n",
        "    A list of email addresses found in the string.\n",
        "  \"\"\"\n",
        "  email_pattern = r\"[a-zA-Z0-9._-]+@[a-zA-Z0-9._-]+\\.[a-zA-Z0-9._-]+\"\n",
        "  emails = re.findall(email_pattern, text)\n",
        "  return emails\n",
        "\n",
        "# Test the function with the provided input\n",
        "input_string = 'Contact us at support@example.com and sales@example.org.'\n",
        "extracted_emails = extract_emails(input_string)\n",
        "\n",
        "# Print the extracted emails\n",
        "print(extracted_emails)  # Output: ['support@example.com', 'sales@example.org']"
      ],
      "metadata": {
        "colab": {
          "base_uri": "https://localhost:8080/"
        },
        "id": "ScAItZc3mtP6",
        "outputId": "e0240684-75cb-498e-f26d-8c593db01ba8"
      },
      "execution_count": 1,
      "outputs": [
        {
          "output_type": "stream",
          "name": "stdout",
          "text": [
            "['support@example.com', 'sales@example.org.']\n"
          ]
        }
      ]
    }
  ]
}