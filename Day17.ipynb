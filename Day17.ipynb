{
  "nbformat": 4,
  "nbformat_minor": 0,
  "metadata": {
    "colab": {
      "provenance": [],
      "authorship_tag": "ABX9TyOLsEcpG8KatWF3TwfLl2n1",
      "include_colab_link": true
    },
    "kernelspec": {
      "name": "python3",
      "display_name": "Python 3"
    },
    "language_info": {
      "name": "python"
    }
  },
  "cells": [
    {
      "cell_type": "markdown",
      "metadata": {
        "id": "view-in-github",
        "colab_type": "text"
      },
      "source": [
        "<a href=\"https://colab.research.google.com/github/Mouryachowdaryy/Jon-snow/blob/main/Day17.ipynb\" target=\"_parent\"><img src=\"https://colab.research.google.com/assets/colab-badge.svg\" alt=\"Open In Colab\"/></a>"
      ]
    },
    {
      "cell_type": "code",
      "execution_count": 1,
      "metadata": {
        "colab": {
          "base_uri": "https://localhost:8080/"
        },
        "id": "h6KYM3QJUv_L",
        "outputId": "90c344ad-3678-47ec-889f-a31b63154773"
      },
      "outputs": [
        {
          "output_type": "stream",
          "name": "stdout",
          "text": [
            "Entity: Apple, Type: ORG\n",
            "Entity: Steve Jobs, Type: PERSON\n",
            "Entity: Steve Wozniak, Type: PERSON\n",
            "Entity: Ronald Wayne, Type: PERSON\n",
            "Entity: Cupertino, Type: GPE\n",
            "Entity: California, Type: GPE\n"
          ]
        }
      ],
      "source": [
        "import spacy\n",
        "\n",
        "def perform_ner(text):\n",
        "    nlp = spacy.load(\"en_core_web_sm\")\n",
        "    doc = nlp(text)\n",
        "\n",
        "    for ent in doc.ents:\n",
        "        print(f\"Entity: {ent.text}, Type: {ent.label_}\")\n",
        "\n",
        "# Example usage\n",
        "text = \"Apple was founded by Steve Jobs, Steve Wozniak, and Ronald Wayne in Cupertino, California.\"\n",
        "perform_ner(text)"
      ]
    }
  ]
}