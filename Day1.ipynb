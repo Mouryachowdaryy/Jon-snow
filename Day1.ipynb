{
  "nbformat": 4,
  "nbformat_minor": 0,
  "metadata": {
    "colab": {
      "provenance": [],
      "authorship_tag": "ABX9TyM2yqkKiq0JbFzNiv+F6eAV",
      "include_colab_link": true
    },
    "kernelspec": {
      "name": "python3",
      "display_name": "Python 3"
    },
    "language_info": {
      "name": "python"
    }
  },
  "cells": [
    {
      "cell_type": "markdown",
      "metadata": {
        "id": "view-in-github",
        "colab_type": "text"
      },
      "source": [
        "<a href=\"https://colab.research.google.com/github/Mouryachowdaryy/Jon-snow/blob/main/Day1.ipynb\" target=\"_parent\"><img src=\"https://colab.research.google.com/assets/colab-badge.svg\" alt=\"Open In Colab\"/></a>"
      ]
    },
    {
      "cell_type": "code",
      "execution_count": 1,
      "metadata": {
        "colab": {
          "base_uri": "https://localhost:8080/"
        },
        "id": "BeJrYNYgZdZV",
        "outputId": "3b020f80-5eb3-4d69-da2b-aabda3348dd9"
      },
      "outputs": [
        {
          "output_type": "stream",
          "name": "stdout",
          "text": [
            "Integer Variable:\n",
            "Value: 10 | Type: <class 'int'>\n",
            "\n",
            "Float Variable:\n",
            "Value: 3.14 | Type: <class 'float'>\n",
            "\n",
            "String Variable:\n",
            "Value: Hello, Jupyter! | Type: <class 'str'>\n",
            "\n",
            "Boolean Variable:\n",
            "Value: True | Type: <class 'bool'>\n"
          ]
        }
      ],
      "source": [
        "# Declare variables of different data types\n",
        "integer_var = 10                # Integer\n",
        "float_var = 3.14                # Float\n",
        "string_var = \"Hello, Jupyter!\"  # String\n",
        "boolean_var = True              # Boolean\n",
        "\n",
        "# Print each variable and its type\n",
        "print(\"Integer Variable:\")\n",
        "print(\"Value:\", integer_var, \"| Type:\", type(integer_var))\n",
        "print()\n",
        "\n",
        "print(\"Float Variable:\")\n",
        "print(\"Value:\", float_var, \"| Type:\", type(float_var))\n",
        "print()\n",
        "\n",
        "print(\"String Variable:\")\n",
        "print(\"Value:\", string_var, \"| Type:\", type(string_var))\n",
        "print()\n",
        "\n",
        "print(\"Boolean Variable:\")\n",
        "print(\"Value:\", boolean_var, \"| Type:\", type(boolean_var))\n"
      ]
    }
  ]
}