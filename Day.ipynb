{
  "nbformat": 4,
  "nbformat_minor": 0,
  "metadata": {
    "colab": {
      "provenance": [],
      "authorship_tag": "ABX9TyP9oZdzqZpEEr51vIhPWTD6",
      "include_colab_link": true
    },
    "kernelspec": {
      "name": "python3",
      "display_name": "Python 3"
    },
    "language_info": {
      "name": "python"
    }
  },
  "cells": [
    {
      "cell_type": "markdown",
      "metadata": {
        "id": "view-in-github",
        "colab_type": "text"
      },
      "source": [
        "<a href=\"https://colab.research.google.com/github/Mouryachowdaryy/Jon-snow/blob/main/Day.ipynb\" target=\"_parent\"><img src=\"https://colab.research.google.com/assets/colab-badge.svg\" alt=\"Open In Colab\"/></a>"
      ]
    },
    {
      "cell_type": "code",
      "execution_count": 1,
      "metadata": {
        "colab": {
          "base_uri": "https://localhost:8080/"
        },
        "id": "1oZ1zraOQxrh",
        "outputId": "aba350bb-3bd5-46b2-98c0-985e2f3e723b"
      },
      "outputs": [
        {
          "output_type": "stream",
          "name": "stdout",
          "text": [
            "Enter a positive integer n: 2\n",
            "The sum of all even numbers from 1 to 2 is: None\n"
          ]
        }
      ],
      "source": [
        "def sum_of_evens(n):\n",
        "    \"\"\"\n",
        "    Calculate the sum of all even numbers from 1 to n.\n",
        "\n",
        "    Parameters:\n",
        "        n (int): The upper limit for the range of numbers.\n",
        "\n",
        "    Returns:\n",
        "        int: The sum of all even numbers between 1 and n.\n",
        "    \"\"\"\n",
        "    if n < 1:\n",
        "        return 0  # No even numbers if n is less than 1\n",
        "        return sum(i for i in range(1, n + 1) if i % 2 == 0)\n",
        "try:\n",
        "    n = int(input(\"Enter a positive integer n: \"))\n",
        "    if n <= 0:\n",
        "        print(\"Please enter a positive integer greater than 0.\")\n",
        "    else:\n",
        "        result = sum_of_evens(n)\n",
        "        print(f\"The sum of all even numbers from 1 to {n} is: {result}\")\n",
        "except ValueError:\n",
        "    print(\"Invalid input! Please enter a positive integer.\")\n"
      ]
    }
  ]
}