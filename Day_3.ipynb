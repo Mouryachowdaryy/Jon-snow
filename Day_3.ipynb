{
  "nbformat": 4,
  "nbformat_minor": 0,
  "metadata": {
    "colab": {
      "provenance": [],
      "authorship_tag": "ABX9TyOHq6N37B/gzgoV1ZWi/kEr",
      "include_colab_link": true
    },
    "kernelspec": {
      "name": "python3",
      "display_name": "Python 3"
    },
    "language_info": {
      "name": "python"
    }
  },
  "cells": [
    {
      "cell_type": "markdown",
      "metadata": {
        "id": "view-in-github",
        "colab_type": "text"
      },
      "source": [
        "<a href=\"https://colab.research.google.com/github/Mouryachowdaryy/Jon-snow/blob/main/Day_3.ipynb\" target=\"_parent\"><img src=\"https://colab.research.google.com/assets/colab-badge.svg\" alt=\"Open In Colab\"/></a>"
      ]
    },
    {
      "cell_type": "code",
      "execution_count": 1,
      "metadata": {
        "colab": {
          "base_uri": "https://localhost:8080/"
        },
        "id": "jxg1p4SsPPwS",
        "outputId": "da035f00-9082-45b6-a159-9e042186245c"
      },
      "outputs": [
        {
          "output_type": "stream",
          "name": "stdout",
          "text": [
            "Enter marks for subject 1: 12\n",
            "Enter marks for subject 2: 13\n",
            "Enter marks for subject 3: 14\n",
            "Grade: Fail\n"
          ]
        }
      ],
      "source": [
        "def calculate_grade():\n",
        "    try:\n",
        "        marks1 = float(input(\"Enter marks for subject 1: \"))\n",
        "        marks2 = float(input(\"Enter marks for subject 2: \"))\n",
        "        marks3 = float(input(\"Enter marks for subject 3: \"))\n",
        "        average = (marks1 + marks2 + marks3) / 3\n",
        "        if average >= 90:\n",
        "            print(\"Grade: A\")\n",
        "        elif 80 <= average < 90:\n",
        "            print(\"Grade: B\")\n",
        "        elif 70 <= average < 80:\n",
        "            print(\"Grade: C\")\n",
        "        else:\n",
        "            print(\"Grade: Fail\")\n",
        "\n",
        "    except ValueError:\n",
        "        print(\"Please enter valid numeric marks.\")\n",
        "calculate_grade()"
      ]
    }
  ]
}