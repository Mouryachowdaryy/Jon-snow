{
  "nbformat": 4,
  "nbformat_minor": 0,
  "metadata": {
    "colab": {
      "provenance": [],
      "authorship_tag": "ABX9TyN4wSmvLYcTlnmHDwJQDO9q",
      "include_colab_link": true
    },
    "kernelspec": {
      "name": "python3",
      "display_name": "Python 3"
    },
    "language_info": {
      "name": "python"
    }
  },
  "cells": [
    {
      "cell_type": "markdown",
      "metadata": {
        "id": "view-in-github",
        "colab_type": "text"
      },
      "source": [
        "<a href=\"https://colab.research.google.com/github/Mouryachowdaryy/Jon-snow/blob/main/Practice.ipynb\" target=\"_parent\"><img src=\"https://colab.research.google.com/assets/colab-badge.svg\" alt=\"Open In Colab\"/></a>"
      ]
    },
    {
      "cell_type": "code",
      "execution_count": 1,
      "metadata": {
        "colab": {
          "base_uri": "https://localhost:8080/"
        },
        "id": "WxrLYhRxy68_",
        "outputId": "2e72e76c-ac26-4f1b-f113-9b7926d5e362"
      },
      "outputs": [
        {
          "output_type": "stream",
          "name": "stdout",
          "text": [
            "['This is an example sent.', 'The Sentence.']\n"
          ]
        }
      ],
      "source": [
        "from nltk.tokenize import PunktSentenceTokenizer\n",
        "tokenizer = PunktSentenceTokenizer()\n",
        "input_string = \"This is an example sent. The Sentence.\"\n",
        "all_sentences = tokenizer.tokenize(input_string)\n",
        "print(all_sentences)\n"
      ]
    },
    {
      "cell_type": "code",
      "source": [
        "import re\n",
        "text = \"Hello, World ! 123\"\n",
        "text = re.sub(r'[^a-z\\s]','',text)\n",
        "print(text)"
      ],
      "metadata": {
        "colab": {
          "base_uri": "https://localhost:8080/"
        },
        "id": "VtAAIJClzDgH",
        "outputId": "6e1cdaf3-9c13-4ea4-f792-41e8e6fad4d7"
      },
      "execution_count": 2,
      "outputs": [
        {
          "output_type": "stream",
          "name": "stdout",
          "text": [
            "ello orld  \n"
          ]
        }
      ]
    },
    {
      "cell_type": "code",
      "source": [
        "import re\n",
        "import nltk\n",
        "nltk.download('stopwords')\n",
        "from sklearn.feature_extraction.text import CountVectorizer\n",
        "from sklearn.model_selection import train_test_split\n",
        "from sklearn.linear_model import LogisticRegression\n",
        "from sklearn.metrics import accuracy_score\n",
        "data = [\n",
        "    ['spam', 'Had your mobile 11 months or more?'],\n",
        "    ['ham', \"I'm gonna be home soon and will connect later\"],\n",
        "    ['spam', 'Congratulations! Mourya, you have won $100000']\n",
        "]\n",
        "labels = [row[0] for row in data]\n",
        "messages = [row[1] for row in data]\n",
        "def preprocess_text(text):\n",
        "    text = text.lower()\n",
        "    text = re.sub(r'[^a-z\\s]', '', text)\n",
        "    words = text.split()\n",
        "    from nltk.corpus import stopwords\n",
        "    stop_words = set(stopwords.words('english'))\n",
        "    filtered_words = [word for word in words if word not in stop_words]\n",
        "    return ' '.join(filtered_words)\n",
        "preprocessed_messages = [preprocess_text(msg) for msg in messages]\n",
        "vectorizer = CountVectorizer()\n",
        "X = vectorizer.fit_transform(preprocessed_messages)\n",
        "y = labels\n",
        "X_train, X_test, y_train, y_test = train_test_split(X, y, test_size=0.2, random_state=42)\n",
        "model = LogisticRegression()\n",
        "model.fit(X_train, y_train)\n",
        "y_pred = model.predict(X_test)\n",
        "print(\"Accuracy:\", accuracy_score(y_test, y_pred))\n",
        "new_sms = \"Congratulations! you have won a free ticket to Goa\"\n",
        "new_sms_preprocessed = preprocess_text(new_sms)\n",
        "new_sms_vectorized = vectorizer.transform([new_sms_preprocessed])\n",
        "prediction = model.predict(new_sms_vectorized)\n",
        "print(f\"Prediction for new SMS: {prediction[0]}\")\n"
      ],
      "metadata": {
        "colab": {
          "base_uri": "https://localhost:8080/"
        },
        "id": "wm95T3mg-pQo",
        "outputId": "eb139f33-e120-44dd-fbd9-4893b7569694"
      },
      "execution_count": 7,
      "outputs": [
        {
          "output_type": "stream",
          "name": "stdout",
          "text": [
            "Accuracy: 1.0\n",
            "Prediction for new SMS: spam\n"
          ]
        },
        {
          "output_type": "stream",
          "name": "stderr",
          "text": [
            "[nltk_data] Downloading package stopwords to /root/nltk_data...\n",
            "[nltk_data]   Package stopwords is already up-to-date!\n"
          ]
        }
      ]
    }
  ]
}