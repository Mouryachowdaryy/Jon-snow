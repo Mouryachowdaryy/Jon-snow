{
  "nbformat": 4,
  "nbformat_minor": 0,
  "metadata": {
    "colab": {
      "provenance": [],
      "authorship_tag": "ABX9TyP66OfbDuvROPgdVM/whna9",
      "include_colab_link": true
    },
    "kernelspec": {
      "name": "python3",
      "display_name": "Python 3"
    },
    "language_info": {
      "name": "python"
    }
  },
  "cells": [
    {
      "cell_type": "markdown",
      "metadata": {
        "id": "view-in-github",
        "colab_type": "text"
      },
      "source": [
        "<a href=\"https://colab.research.google.com/github/Mouryachowdaryy/Jon-snow/blob/main/Day4bAssignment.ipynb\" target=\"_parent\"><img src=\"https://colab.research.google.com/assets/colab-badge.svg\" alt=\"Open In Colab\"/></a>"
      ]
    },
    {
      "cell_type": "code",
      "execution_count": 1,
      "metadata": {
        "colab": {
          "base_uri": "https://localhost:8080/"
        },
        "id": "MA-mgan_CVxd",
        "outputId": "1b33bc5f-0722-47f9-f9b2-5c271d51bb5b"
      },
      "outputs": [
        {
          "output_type": "stream",
          "name": "stdout",
          "text": [
            "Enter a positive integer: 2\n",
            "The sum of all even numbers between 1 and 2 is: 2\n"
          ]
        }
      ],
      "source": [
        "def sum_of_even_numbers(n):\n",
        "    \"\"\"\n",
        "    Calculate the sum of all even numbers between 1 and n.\n",
        "\n",
        "    Parameters:\n",
        "    n (int): A positive integer up to which even numbers are summed.\n",
        "\n",
        "    Returns:\n",
        "    int: Sum of all even numbers between 1 and n.\n",
        "    \"\"\"\n",
        "    if n < 1:\n",
        "        return 0\n",
        "\n",
        "    # Using a loop to calculate the sum of even numbers\n",
        "    even_sum = 0\n",
        "    for num in range(2, n + 1, 2):  # Start from 2 and step by 2 to get even numbers\n",
        "        even_sum += num\n",
        "\n",
        "    return even_sum\n",
        "\n",
        "# Input from the user\n",
        "try:\n",
        "    n = int(input(\"Enter a positive integer: \"))\n",
        "    if n <= 0:\n",
        "        print(\"Please enter a positive integer greater than 0.\")\n",
        "    else:\n",
        "        result = sum_of_even_numbers(n)\n",
        "        print(f\"The sum of all even numbers between 1 and {n} is: {result}\")\n",
        "except ValueError:\n",
        "    print(\"Invalid input. Please enter a positive integer.\")\n"
      ]
    }
  ]
}