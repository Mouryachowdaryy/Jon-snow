{
  "nbformat": 4,
  "nbformat_minor": 0,
  "metadata": {
    "colab": {
      "provenance": [],
      "authorship_tag": "ABX9TyNBVPLMBivHBCn8V+qgIc33",
      "include_colab_link": true
    },
    "kernelspec": {
      "name": "python3",
      "display_name": "Python 3"
    },
    "language_info": {
      "name": "python"
    }
  },
  "cells": [
    {
      "cell_type": "markdown",
      "metadata": {
        "id": "view-in-github",
        "colab_type": "text"
      },
      "source": [
        "<a href=\"https://colab.research.google.com/github/Mouryachowdaryy/Jon-snow/blob/main/Day9.ipynb\" target=\"_parent\"><img src=\"https://colab.research.google.com/assets/colab-badge.svg\" alt=\"Open In Colab\"/></a>"
      ]
    },
    {
      "cell_type": "code",
      "execution_count": 2,
      "metadata": {
        "colab": {
          "base_uri": "https://localhost:8080/"
        },
        "id": "aKZ2LXGokXpJ",
        "outputId": "ee116c22-ae44-4f33-cedb-c487c6e6a792"
      },
      "outputs": [
        {
          "output_type": "stream",
          "name": "stdout",
          "text": [
            "Sentences: ['This is a sample paragraph.', 'It has multiple sentences.', 'We will tokenize it into words and sentences.']\n",
            "Words: ['This', 'is', 'a', 'sample', 'paragraph', '.', 'It', 'has', 'multiple', 'sentences', '.', 'We', 'will', 'tokenize', 'it', 'into', 'words', 'and', 'sentences', '.']\n"
          ]
        },
        {
          "output_type": "stream",
          "name": "stderr",
          "text": [
            "[nltk_data] Downloading package punkt_tab to /root/nltk_data...\n",
            "[nltk_data]   Unzipping tokenizers/punkt_tab.zip.\n",
            "[nltk_data] Downloading package averaged_perceptron_tagger to\n",
            "[nltk_data]     /root/nltk_data...\n",
            "[nltk_data]   Package averaged_perceptron_tagger is already up-to-\n",
            "[nltk_data]       date!\n"
          ]
        }
      ],
      "source": [
        "import nltk\n",
        "nltk.download('punkt_tab')\n",
        "nltk.download('averaged_perceptron_tagger')\n",
        "\n",
        "paragraph = \"This is a sample paragraph. It has multiple sentences. We will tokenize it into words and sentences.\"\n",
        "\n",
        "# Tokenize into sentences\n",
        "sentences = nltk.sent_tokenize(paragraph)\n",
        "print(\"Sentences:\", sentences)\n",
        "\n",
        "# Tokenize into words\n",
        "words = nltk.word_tokenize(paragraph)\n",
        "print(\"Words:\", words)"
      ]
    }
  ]
}