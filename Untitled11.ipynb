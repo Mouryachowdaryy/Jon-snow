{
  "nbformat": 4,
  "nbformat_minor": 0,
  "metadata": {
    "colab": {
      "provenance": [],
      "authorship_tag": "ABX9TyOVNqgPodwnW+QVwk8b4uPe",
      "include_colab_link": true
    },
    "kernelspec": {
      "name": "python3",
      "display_name": "Python 3"
    },
    "language_info": {
      "name": "python"
    }
  },
  "cells": [
    {
      "cell_type": "markdown",
      "metadata": {
        "id": "view-in-github",
        "colab_type": "text"
      },
      "source": [
        "<a href=\"https://colab.research.google.com/github/Mouryachowdaryy/Jon-snow/blob/main/Untitled11.ipynb\" target=\"_parent\"><img src=\"https://colab.research.google.com/assets/colab-badge.svg\" alt=\"Open In Colab\"/></a>"
      ]
    },
    {
      "cell_type": "code",
      "execution_count": null,
      "metadata": {
        "colab": {
          "base_uri": "https://localhost:8080/"
        },
        "id": "KBUJhHarM4_T",
        "outputId": "94fd38c8-dab5-427e-86db-3f9ba0062338"
      },
      "outputs": [
        {
          "output_type": "stream",
          "name": "stdout",
          "text": [
            "HELLO WORLD\n"
          ]
        }
      ],
      "source": [
        "a='hello world'\n",
        "b = a.upper()\n",
        "print(b)"
      ]
    },
    {
      "cell_type": "code",
      "source": [
        "# Define the correct credentials\n",
        "correct_username = \"admin\"\n",
        "correct_password = \"12345\"\n",
        "\n",
        "# Prompt user for their username and password\n",
        "username = input(\"Enter your username: \")\n",
        "password = input(\"Enter your password: \")\n",
        "\n",
        "# Check if the entered credentials are correct\n",
        "if username == correct_username and password == correct_password:\n",
        "    print(\"Access granted\")\n",
        "else:\n",
        "    print(\"Invalid username or password, please try again\")\n",
        "\n"
      ],
      "metadata": {
        "colab": {
          "base_uri": "https://localhost:8080/"
        },
        "id": "tsh_EKziOBTV",
        "outputId": "2e72defe-351a-4689-b2d7-55508a2a52d2"
      },
      "execution_count": null,
      "outputs": [
        {
          "output_type": "stream",
          "name": "stdout",
          "text": [
            "Enter your username: bhooth\n",
            "Enter your password: 1234\n",
            "Invalid username or password, please try again\n"
          ]
        }
      ]
    },
    {
      "cell_type": "code",
      "source": [
        "a= 'hello world '\n",
        "b = a.replace ('hello','hi')\n",
        "print(b)"
      ],
      "metadata": {
        "colab": {
          "base_uri": "https://localhost:8080/"
        },
        "id": "vegnKz8UPIoI",
        "outputId": "c9fd41f2-d17f-4afd-e1c8-b5739eefae6f"
      },
      "execution_count": null,
      "outputs": [
        {
          "output_type": "stream",
          "name": "stdout",
          "text": [
            "hi world \n"
          ]
        }
      ]
    },
    {
      "cell_type": "code",
      "source": [
        "a= '1234asa'\n",
        "b = a.isdigit()\n",
        "print(b)"
      ],
      "metadata": {
        "colab": {
          "base_uri": "https://localhost:8080/"
        },
        "id": "ZeSKQzP0PW1U",
        "outputId": "d4400c12-fb78-4885-b8e9-01d685d0553b"
      },
      "execution_count": null,
      "outputs": [
        {
          "output_type": "stream",
          "name": "stdout",
          "text": [
            "False\n"
          ]
        }
      ]
    },
    {
      "cell_type": "code",
      "source": [
        "a=range(10)\n",
        "print(a)"
      ],
      "metadata": {
        "colab": {
          "base_uri": "https://localhost:8080/"
        },
        "id": "brVFJcSZPl8T",
        "outputId": "66430687-2eb2-40bd-e76b-f8fc14ff82c6"
      },
      "execution_count": null,
      "outputs": [
        {
          "output_type": "stream",
          "name": "stdout",
          "text": [
            "range(0, 10)\n"
          ]
        }
      ]
    },
    {
      "cell_type": "code",
      "source": [
        "a = range(10)\n",
        "b = list(a)\n",
        "print(b)"
      ],
      "metadata": {
        "colab": {
          "base_uri": "https://localhost:8080/"
        },
        "id": "UAWNeASIPtYL",
        "outputId": "43cb31e9-c05d-4896-9e6d-4fe07615a22c"
      },
      "execution_count": null,
      "outputs": [
        {
          "output_type": "stream",
          "name": "stdout",
          "text": [
            "[0, 1, 2, 3, 4, 5, 6, 7, 8, 9]\n"
          ]
        }
      ]
    },
    {
      "cell_type": "code",
      "source": [
        "my_list = list(range(5,15,12))\n",
        "print(my_list)"
      ],
      "metadata": {
        "colab": {
          "base_uri": "https://localhost:8080/"
        },
        "id": "wiHZ7TNPP2eL",
        "outputId": "020f2e8c-0916-4389-c3b7-2fe46fc766a4"
      },
      "execution_count": null,
      "outputs": [
        {
          "output_type": "stream",
          "name": "stdout",
          "text": [
            "[5]\n"
          ]
        }
      ]
    },
    {
      "cell_type": "code",
      "source": [
        "def add_numbers(a, b):\n",
        "    result = a + b\n",
        "    return result\n",
        "\n",
        "result2 = add_numbers(10, 2)\n",
        "print(result2)\n"
      ],
      "metadata": {
        "colab": {
          "base_uri": "https://localhost:8080/"
        },
        "id": "SnCRdbgJQMrX",
        "outputId": "bdb2caf9-4ee5-485d-8d48-62df6e020429"
      },
      "execution_count": null,
      "outputs": [
        {
          "output_type": "stream",
          "name": "stdout",
          "text": [
            "12\n"
          ]
        }
      ]
    },
    {
      "cell_type": "code",
      "source": [
        "print(dir(str))\n"
      ],
      "metadata": {
        "colab": {
          "base_uri": "https://localhost:8080/"
        },
        "id": "JBaMvW7bR7Uy",
        "outputId": "7bc4d4aa-0965-44bf-e224-053b31724237"
      },
      "execution_count": null,
      "outputs": [
        {
          "output_type": "stream",
          "name": "stdout",
          "text": [
            "['__add__', '__class__', '__contains__', '__delattr__', '__dir__', '__doc__', '__eq__', '__format__', '__ge__', '__getattribute__', '__getitem__', '__getnewargs__', '__gt__', '__hash__', '__init__', '__init_subclass__', '__iter__', '__le__', '__len__', '__lt__', '__mod__', '__mul__', '__ne__', '__new__', '__reduce__', '__reduce_ex__', '__repr__', '__rmod__', '__rmul__', '__setattr__', '__sizeof__', '__str__', '__subclasshook__', 'capitalize', 'casefold', 'center', 'count', 'encode', 'endswith', 'expandtabs', 'find', 'format', 'format_map', 'index', 'isalnum', 'isalpha', 'isascii', 'isdecimal', 'isdigit', 'isidentifier', 'islower', 'isnumeric', 'isprintable', 'isspace', 'istitle', 'isupper', 'join', 'ljust', 'lower', 'lstrip', 'maketrans', 'partition', 'removeprefix', 'removesuffix', 'replace', 'rfind', 'rindex', 'rjust', 'rpartition', 'rsplit', 'rstrip', 'split', 'splitlines', 'startswith', 'strip', 'swapcase', 'title', 'translate', 'upper', 'zfill']\n"
          ]
        }
      ]
    },
    {
      "cell_type": "code",
      "source": [
        "def calculate_sum(*args):\n",
        "  total = sum(args)\n",
        "  return total\n",
        "print(\"Sum of 1,2,3,4 :\" ,calculate_sum(1,2,3,4))\n",
        "print(\"Sum of 1,2,3,4,5:\" ,calculate_sum(1,2,3,4,5))"
      ],
      "metadata": {
        "colab": {
          "base_uri": "https://localhost:8080/"
        },
        "id": "EAo0XEIQUQK0",
        "outputId": "b753333a-3c93-4f86-f5bc-d148d8f9168f"
      },
      "execution_count": null,
      "outputs": [
        {
          "output_type": "stream",
          "name": "stdout",
          "text": [
            "Sum of 1,2,3,4 : 10\n",
            "Sum of 1,2,3,4,5: 15\n"
          ]
        }
      ]
    },
    {
      "cell_type": "code",
      "source": [
        "#add two numbers using a lambda function\n",
        "add= lambda x,y : x+y\n",
        "result = add(3,5)\n",
        "print(result)"
      ],
      "metadata": {
        "colab": {
          "base_uri": "https://localhost:8080/"
        },
        "id": "Qybk_rcMUR3v",
        "outputId": "eb0bcb00-4b04-45fc-8284-b06f40211ea1"
      },
      "execution_count": null,
      "outputs": [
        {
          "output_type": "stream",
          "name": "stdout",
          "text": [
            "8\n"
          ]
        }
      ]
    },
    {
      "cell_type": "code",
      "source": [
        "is_palindrome = lambda s: s==s[::-1]\n",
        "print(is_palindrome(\"radar\"))"
      ],
      "metadata": {
        "colab": {
          "base_uri": "https://localhost:8080/"
        },
        "id": "5mowV0daVNfe",
        "outputId": "b8158d1f-59c8-4b4c-b827-7944211cdfc8"
      },
      "execution_count": null,
      "outputs": [
        {
          "output_type": "stream",
          "name": "stdout",
          "text": [
            "True\n"
          ]
        }
      ]
    },
    {
      "cell_type": "code",
      "source": [],
      "metadata": {
        "id": "JiIZsGlOWGPN"
      },
      "execution_count": null,
      "outputs": []
    }
  ]
}