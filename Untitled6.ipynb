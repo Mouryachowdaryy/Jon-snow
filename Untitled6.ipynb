{
  "nbformat": 4,
  "nbformat_minor": 0,
  "metadata": {
    "colab": {
      "provenance": [],
      "authorship_tag": "ABX9TyPZFKLF35HjdgFo7Pm7ozJX",
      "include_colab_link": true
    },
    "kernelspec": {
      "name": "python3",
      "display_name": "Python 3"
    },
    "language_info": {
      "name": "python"
    }
  },
  "cells": [
    {
      "cell_type": "markdown",
      "metadata": {
        "id": "view-in-github",
        "colab_type": "text"
      },
      "source": [
        "<a href=\"https://colab.research.google.com/github/Mouryachowdaryy/Jon-snow/blob/main/Untitled6.ipynb\" target=\"_parent\"><img src=\"https://colab.research.google.com/assets/colab-badge.svg\" alt=\"Open In Colab\"/></a>"
      ]
    },
    {
      "cell_type": "code",
      "execution_count": null,
      "metadata": {
        "colab": {
          "base_uri": "https://localhost:8080/"
        },
        "id": "9drhSRvxWSy1",
        "outputId": "496b3053-32d2-455b-cff7-96f32b2b08c8"
      },
      "outputs": [
        {
          "output_type": "stream",
          "name": "stdout",
          "text": [
            "Orginal Integer: 42\n"
          ]
        }
      ],
      "source": [
        "my_int = 42\n",
        "print(\"Orginal Integer:\", my_int)\n"
      ]
    },
    {
      "cell_type": "code",
      "source": [],
      "metadata": {
        "id": "GkZqGiQGMFuu"
      },
      "execution_count": null,
      "outputs": []
    },
    {
      "cell_type": "code",
      "source": [
        "my_list = []  # Make sure the list is defined first\n",
        "my_list.append('world')\n",
        "print(\"List after appending:\", my_list)\n"
      ],
      "metadata": {
        "colab": {
          "base_uri": "https://localhost:8080/"
        },
        "id": "VEELc8BWYKLQ",
        "outputId": "603aaf07-926d-4513-d948-7b9695cc3a30"
      },
      "execution_count": null,
      "outputs": [
        {
          "output_type": "stream",
          "name": "stdout",
          "text": [
            "List after appending: ['world']\n"
          ]
        }
      ]
    },
    {
      "cell_type": "code",
      "source": [
        "my_tuple = (1,'apple',3.14,False)\n",
        "print(\"Orginal Tuple:\",my_tuple)\n",
        "print(\"First element:\",my_tuple[0])\n",
        "print(\"Last element:\",my_tuple[-1])"
      ],
      "metadata": {
        "colab": {
          "base_uri": "https://localhost:8080/"
        },
        "id": "LAPKMrlbZb5h",
        "outputId": "7cb5a987-52cb-4903-e27a-0aab2f318766"
      },
      "execution_count": null,
      "outputs": [
        {
          "output_type": "stream",
          "name": "stdout",
          "text": [
            "Orginal Tuple: (1, 'apple', 3.14, False)\n",
            "First element: 1\n",
            "Last element: False\n"
          ]
        }
      ]
    },
    {
      "cell_type": "code",
      "source": [
        "myint = 5  # or any integer value you'd like to assign\n",
        "result = myint * 2\n",
        "print(\"Result after multiplication:\", result)\n"
      ],
      "metadata": {
        "colab": {
          "base_uri": "https://localhost:8080/"
        },
        "id": "V8XBy6jAYLFW",
        "outputId": "705da365-390f-4e11-ba53-77a39ba79a31"
      },
      "execution_count": null,
      "outputs": [
        {
          "output_type": "stream",
          "name": "stdout",
          "text": [
            "Result after multiplication: 10\n"
          ]
        }
      ]
    },
    {
      "cell_type": "code",
      "source": [
        "my_set = {1,2,3,4,5}\n",
        "print(\"Orginal Set:\",my_set)\n",
        "my_set.add(6)\n",
        "print(\"Set after adding 6:\", my_set)"
      ],
      "metadata": {
        "colab": {
          "base_uri": "https://localhost:8080/"
        },
        "id": "ZFkOB2-da5LZ",
        "outputId": "4a896808-9fef-4dcc-96b6-538decff3403"
      },
      "execution_count": null,
      "outputs": [
        {
          "output_type": "stream",
          "name": "stdout",
          "text": [
            "Orginal Set: {1, 2, 3, 4, 5}\n",
            "Set after adding 6: {1, 2, 3, 4, 5, 6}\n"
          ]
        }
      ]
    },
    {
      "cell_type": "code",
      "source": [
        "my_dict = {'name': 'john', 'age': 30, 'city': 'New York'}\n",
        "print(\"Original Dictionary:\", my_dict)\n",
        "my_dict['age'] = 26\n",
        "print(\"Dictionary after updating age:\", my_dict)\n",
        "\n"
      ],
      "metadata": {
        "colab": {
          "base_uri": "https://localhost:8080/"
        },
        "id": "yYGWwvLqbv1_",
        "outputId": "06f55c32-4485-4eaa-841b-c5d31fd5e866"
      },
      "execution_count": null,
      "outputs": [
        {
          "output_type": "stream",
          "name": "stdout",
          "text": [
            "Original Dictionary: {'name': 'john', 'age': 30, 'city': 'New York'}\n",
            "Dictionary after updating age: {'name': 'john', 'age': 26, 'city': 'New York'}\n"
          ]
        }
      ]
    },
    {
      "cell_type": "code",
      "source": [
        "my_list = [2, 3, 4, 5]\n",
        "my_list.insert(0, 1)\n",
        "print(\"List after inserting 1:\", my_list)\n",
        "\n",
        "middle_index = len(my_list) // 2\n",
        "my_list.insert(middle_index, 3.5)\n",
        "print(\"List after inserting 3.5:\", my_list)\n",
        "\n"
      ],
      "metadata": {
        "colab": {
          "base_uri": "https://localhost:8080/"
        },
        "id": "vKCw9YbBgjAf",
        "outputId": "b4fab508-0818-402f-d62c-cf0aab57f393"
      },
      "execution_count": null,
      "outputs": [
        {
          "output_type": "stream",
          "name": "stdout",
          "text": [
            "List after inserting 1: [1, 2, 3, 4, 5]\n",
            "List after inserting 3.5: [1, 2, 3.5, 3, 4, 5]\n"
          ]
        }
      ]
    },
    {
      "cell_type": "code",
      "source": [
        "my_list.append(6)\n",
        "print(\"List after appending 6:\", my_list)"
      ],
      "metadata": {
        "colab": {
          "base_uri": "https://localhost:8080/"
        },
        "id": "TKM4iCfGhboe",
        "outputId": "6ee7fff6-cfbf-49ac-e086-cd65af8b868c"
      },
      "execution_count": null,
      "outputs": [
        {
          "output_type": "stream",
          "name": "stdout",
          "text": [
            "List after appending 6: [1, 2, 3.5, 3, 4, 5, 6]\n"
          ]
        }
      ]
    },
    {
      "cell_type": "code",
      "source": [
        "index_to_update = 2\n",
        "new_value = 10\n",
        "my_list[index_to_update] = new_value\n",
        "print(\"List after updating element at index 2:\", my_list)"
      ],
      "metadata": {
        "colab": {
          "base_uri": "https://localhost:8080/"
        },
        "id": "SMQfyYu-h9iE",
        "outputId": "1b954e0a-2830-49d5-80f0-f9d0cc8420cf"
      },
      "execution_count": null,
      "outputs": [
        {
          "output_type": "stream",
          "name": "stdout",
          "text": [
            "List after updating element at index 2: [1, 2, 10, 3, 4, 5, 6]\n"
          ]
        }
      ]
    },
    {
      "cell_type": "code",
      "source": [
        "my_list = [1,'hello',3.14,True]\n",
        "print(\"Orginal list:\", my_list)"
      ],
      "metadata": {
        "colab": {
          "base_uri": "https://localhost:8080/"
        },
        "id": "YnLDPf9vXUo4",
        "outputId": "1366bd17-1df0-4965-e084-ae1e039d20a9"
      },
      "execution_count": null,
      "outputs": [
        {
          "output_type": "stream",
          "name": "stdout",
          "text": [
            "Orginal list: [1, 'hello', 3.14, True]\n"
          ]
        }
      ]
    },
    {
      "cell_type": "code",
      "source": [
        "print(\"\\nSlicing with step(start:stop:stop):\")\n",
        "print(my_list[1:8:2])"
      ],
      "metadata": {
        "colab": {
          "base_uri": "https://localhost:8080/"
        },
        "id": "y3aZDb9miLML",
        "outputId": "789f6753-bb92-46f7-94ce-34b7cded2f8d"
      },
      "execution_count": null,
      "outputs": [
        {
          "output_type": "stream",
          "name": "stdout",
          "text": [
            "\n",
            "Slicing with step(start:stop:stop):\n",
            "['hello', True]\n"
          ]
        }
      ]
    },
    {
      "cell_type": "code",
      "source": [
        "print(\"\\nSlicing with negative index:\")\n",
        "print(my_list[-5:-2])"
      ],
      "metadata": {
        "colab": {
          "base_uri": "https://localhost:8080/"
        },
        "id": "EGXHXWAKjUq5",
        "outputId": "4594b6ca-4577-4e59-fcc6-9a0e1039d0a3"
      },
      "execution_count": null,
      "outputs": [
        {
          "output_type": "stream",
          "name": "stdout",
          "text": [
            "\n",
            "Slicing with negative index:\n",
            "[1, 'hello']\n"
          ]
        }
      ]
    },
    {
      "cell_type": "code",
      "source": [
        "print(\"\\nReversing with list using slicing:\")\n",
        "print(my_list[::-1])"
      ],
      "metadata": {
        "colab": {
          "base_uri": "https://localhost:8080/"
        },
        "id": "gJI7LH4Wj0Vy",
        "outputId": "a16509d0-24c4-40a1-e748-6c4e567c6986"
      },
      "execution_count": null,
      "outputs": [
        {
          "output_type": "stream",
          "name": "stdout",
          "text": [
            "\n",
            "Reversing with list using slicing:\n",
            "[True, 3.14, 'hello', 1]\n"
          ]
        }
      ]
    }
  ]
}