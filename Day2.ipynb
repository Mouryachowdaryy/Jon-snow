{
  "nbformat": 4,
  "nbformat_minor": 0,
  "metadata": {
    "colab": {
      "provenance": [],
      "authorship_tag": "ABX9TyPWRLsqO5v8v10Cqkf61hKx",
      "include_colab_link": true
    },
    "kernelspec": {
      "name": "python3",
      "display_name": "Python 3"
    },
    "language_info": {
      "name": "python"
    }
  },
  "cells": [
    {
      "cell_type": "markdown",
      "metadata": {
        "id": "view-in-github",
        "colab_type": "text"
      },
      "source": [
        "<a href=\"https://colab.research.google.com/github/Mouryachowdaryy/Jon-snow/blob/main/Day2.ipynb\" target=\"_parent\"><img src=\"https://colab.research.google.com/assets/colab-badge.svg\" alt=\"Open In Colab\"/></a>"
      ]
    },
    {
      "cell_type": "code",
      "execution_count": 2,
      "metadata": {
        "colab": {
          "base_uri": "https://localhost:8080/"
        },
        "id": "b1v-9LYwNnBE",
        "outputId": "38fda819-fc1b-40a3-e872-ef7065d35022"
      },
      "outputs": [
        {
          "output_type": "stream",
          "name": "stdout",
          "text": [
            "List: [10, 20, 30, 40, 50]\n",
            "First Element: 10\n",
            "Third Element: 30\n",
            "Last Element: 50\n"
          ]
        }
      ],
      "source": [
        "\n",
        "my_list = [10, 20, 30, 40, 50]\n",
        "first_element = my_list[0]\n",
        "third_element = my_list[2]\n",
        "last_element = my_list[-1]\n",
        "print(\"List:\", my_list)\n",
        "print(\"First Element:\", first_element)\n",
        "print(\"Third Element:\", third_element)\n",
        "print(\"Last Element:\", last_element)"
      ]
    },
    {
      "cell_type": "code",
      "source": [
        "\n",
        "my_tuple = (1, 2, 3, 4, 5)\n",
        "second_element = my_tuple[1]\n",
        "fourth_element = my_tuple[3]\n",
        "last_element_tuple = my_tuple[-1]\n",
        "print(\"Tuple:\", my_tuple)\n",
        "print(\"Second Element:\", second_element)\n",
        "print(\"Fourth Element:\", fourth_element)\n",
        "print(\"Last Element in Tuple:\", last_element_tuple)"
      ],
      "metadata": {
        "colab": {
          "base_uri": "https://localhost:8080/"
        },
        "id": "cM7LHo1dOSZH",
        "outputId": "7e082fcd-5485-4e7f-b32e-d94569ef9908"
      },
      "execution_count": 3,
      "outputs": [
        {
          "output_type": "stream",
          "name": "stdout",
          "text": [
            "Tuple: (1, 2, 3, 4, 5)\n",
            "Second Element: 2\n",
            "Fourth Element: 4\n",
            "Last Element in Tuple: 5\n"
          ]
        }
      ]
    },
    {
      "cell_type": "code",
      "source": [
        "# Creating a dictionary\n",
        "my_dict = {\n",
        "    'name': 'Alice',\n",
        "    'age': 30,\n",
        "    'city': 'New York',\n",
        "    'job': 'Engineer',\n",
        "    'hobby': 'Painting'\n",
        "}\n",
        "name_value = my_dict['name']\n",
        "age_value = my_dict['age']\n",
        "hobby_value = my_dict['hobby']\n",
        "print(\"Dictionary:\", my_dict)\n",
        "print(\"Name:\", name_value)\n",
        "print(\"Age:\", age_value)\n",
        "print(\"Hobby:\", hobby_value)"
      ],
      "metadata": {
        "colab": {
          "base_uri": "https://localhost:8080/"
        },
        "id": "oV1AbxFTOe3f",
        "outputId": "6b005e85-527b-4c5d-fdf5-dae82fb2d48f"
      },
      "execution_count": 4,
      "outputs": [
        {
          "output_type": "stream",
          "name": "stdout",
          "text": [
            "Dictionary: {'name': 'Alice', 'age': 30, 'city': 'New York', 'job': 'Engineer', 'hobby': 'Painting'}\n",
            "Name: Alice\n",
            "Age: 30\n",
            "Hobby: Painting\n"
          ]
        }
      ]
    }
  ]
}