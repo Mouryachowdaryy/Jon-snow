{
  "nbformat": 4,
  "nbformat_minor": 0,
  "metadata": {
    "colab": {
      "provenance": [],
      "authorship_tag": "ABX9TyMZWs/6No4O7+NlqNXcOXU8",
      "include_colab_link": true
    },
    "kernelspec": {
      "name": "python3",
      "display_name": "Python 3"
    },
    "language_info": {
      "name": "python"
    }
  },
  "cells": [
    {
      "cell_type": "markdown",
      "metadata": {
        "id": "view-in-github",
        "colab_type": "text"
      },
      "source": [
        "<a href=\"https://colab.research.google.com/github/Mouryachowdaryy/Jon-snow/blob/main/Day7.ipynb\" target=\"_parent\"><img src=\"https://colab.research.google.com/assets/colab-badge.svg\" alt=\"Open In Colab\"/></a>"
      ]
    },
    {
      "cell_type": "code",
      "source": [
        "import nltk\n",
        "nltk.download('punkt_tab')\n",
        "import spacy\n",
        "from nltk.corpus import stopwords\n",
        "from nltk.tokenize import word_tokenize\n",
        "\n",
        "# Download NLTK resources if you haven't already\n",
        "nltk.download('punkt')\n",
        "nltk.download('stopwords')\n",
        "\n",
        "# Load spaCy model (optional, for advanced linguistic features)\n",
        "nlp = spacy.load(\"en_core_web_sm\")\n",
        "\n",
        "def preprocess_text(text):\n",
        "    \"\"\"Converts text to lowercase and removes stopwords using NLTK.\"\"\"\n",
        "    # Convert text to lowercase\n",
        "    text = text.lower()\n",
        "\n",
        "    # Tokenize the text\n",
        "    tokens = word_tokenize(text)\n",
        "\n",
        "    # Get the set of English stopwords\n",
        "    stop_words = set(stopwords.words('english'))\n",
        "\n",
        "    # Remove stopwords\n",
        "    filtered_tokens = [token for token in tokens if token.lower() not in stop_words]\n",
        "\n",
        "    # Join the filtered tokens back into a string\n",
        "    processed_text = \" \".join(filtered_tokens)\n",
        "\n",
        "    return processed_text\n",
        "\n",
        "# Example usage\n",
        "text = \"This is an example sentence! Let's clean it up and remove stopwords.\"\n",
        "processed_text = preprocess_text(text)\n",
        "\n",
        "print(\"Original Text:\", text)\n",
        "print(\"Processed Text:\", processed_text)"
      ],
      "metadata": {
        "colab": {
          "base_uri": "https://localhost:8080/"
        },
        "id": "ejLG-omkeG6z",
        "outputId": "b3c57f50-76e6-4c5e-e049-c28642cfbc5a"
      },
      "execution_count": 9,
      "outputs": [
        {
          "output_type": "stream",
          "name": "stderr",
          "text": [
            "[nltk_data] Downloading package punkt_tab to /root/nltk_data...\n",
            "[nltk_data]   Unzipping tokenizers/punkt_tab.zip.\n",
            "[nltk_data] Downloading package punkt to /root/nltk_data...\n",
            "[nltk_data]   Package punkt is already up-to-date!\n",
            "[nltk_data] Downloading package stopwords to /root/nltk_data...\n",
            "[nltk_data]   Package stopwords is already up-to-date!\n"
          ]
        },
        {
          "output_type": "stream",
          "name": "stdout",
          "text": [
            "Original Text: This is an example sentence! Let's clean it up and remove stopwords.\n",
            "Processed Text: example sentence ! let 's clean remove stopwords .\n"
          ]
        }
      ]
    }
  ]
}